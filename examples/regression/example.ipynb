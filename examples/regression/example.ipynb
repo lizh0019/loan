{
 "cells": [
  {
   "cell_type": "markdown",
   "metadata": {},
   "source": [
    "# importing the MLBox"
   ]
  },
  {
   "cell_type": "code",
   "execution_count": 1,
   "metadata": {
    "scrolled": true
   },
   "outputs": [
    {
     "name": "stderr",
     "output_type": "stream",
     "text": [
      "/home/datageek/anaconda2/lib/python2.7/site-packages/mlbox/preprocessing/drift/__init__.py:9: UserWarning: ipCluster is starting. Please wait 30 sec and check in terminal that 'the engines appear to have started successfully'.\n",
      "  warnings.warn(\"ipCluster is starting. Please wait 30 sec and check in terminal that 'the engines appear to have started successfully'.\")\n",
      "Using Theano backend.\n",
      "/home/datageek/anaconda2/lib/python2.7/site-packages/sklearn/cross_validation.py:43: DeprecationWarning: This module was deprecated in version 0.18 in favor of the model_selection module into which all the refactored classes and functions are moved. Also note that the interface of the new CV iterators are different from that of this module. This module will be removed in 0.20.\n",
      "  \"This module will be removed in 0.20.\", DeprecationWarning)\n"
     ]
    }
   ],
   "source": [
    "from mlbox.preprocessing import *\n",
    "from mlbox.optimisation import *\n",
    "from mlbox.prediction import *"
   ]
  },
  {
   "cell_type": "code",
   "execution_count": 13,
   "metadata": {
    "collapsed": true
   },
   "outputs": [],
   "source": [
    "paths = [\"train.csv\",\"test.csv\"]\n",
    "target_name=\"SalePrice\""
   ]
  },
  {
   "cell_type": "markdown",
   "metadata": {},
   "source": [
    "# reading and cleaning all files "
   ]
  },
  {
   "cell_type": "code",
   "execution_count": 3,
   "metadata": {
    "scrolled": true
   },
   "outputs": [
    {
     "name": "stdout",
     "output_type": "stream",
     "text": [
      "\n",
      "reading csv : train.csv ...\n",
      "cleaning data...\n",
      "CPU time: 19.9882261753 seconds\n",
      "\n",
      "reading csv : test.csv ...\n",
      "cleaning data...\n",
      "CPU time: 0.484149932861 seconds\n",
      "\n",
      "number of common features : 80\n",
      "\n",
      "gathering and crunching for train and test datasets\n",
      "reindexing for train and test datasets\n",
      "dropping training duplicates\n",
      "dropping constant variables on training set\n",
      "\n",
      "number of categorical features : 43\n",
      "number of numerical features : 37\n",
      "number of training samples : 1460\n",
      "number of test samples : 1459\n",
      "\n",
      "task : regression\n"
     ]
    }
   ],
   "source": [
    "rd = Reader(sep = ',')\n",
    "df = rd.train_test_split(paths, target_name)"
   ]
  },
  {
   "cell_type": "code",
   "execution_count": 4,
   "metadata": {
    "scrolled": false
   },
   "outputs": [
    {
     "name": "stdout",
     "output_type": "stream",
     "text": [
      "\n",
      "computing drifts...\n",
      "CPU time: 1.19959688187 seconds\n",
      "\n",
      "Top 10 drifts\n",
      "\n",
      "('Id', 0.9996570644718793)\n",
      "('GarageYrBlt', 0.52930157759352303)\n",
      "('Exterior1st', 0.52586411001119482)\n",
      "('TotalBsmtSF', 0.52389869237891595)\n",
      "('2ndFlrSF', 0.52123329243075833)\n",
      "('Exterior2nd', 0.52107292808122652)\n",
      "('BsmtFullBath', 0.52018890605818879)\n",
      "('GrLivArea', 0.5197186371334116)\n",
      "('TotRmsAbvGrd', 0.5194699326175769)\n",
      "('WoodDeckSF', 0.51865392689173118)\n",
      "\n",
      "deleted variables : ['Id']\n",
      "\n",
      "dumping drift coefficients into directory : save\n",
      "drift coefficients dumped\n"
     ]
    }
   ],
   "source": [
    "dft = Drift_thresholder()\n",
    "df = dft.fit_transform(df)"
   ]
  },
  {
   "cell_type": "markdown",
   "metadata": {},
   "source": [
    "# tuning"
   ]
  },
  {
   "cell_type": "code",
   "execution_count": 28,
   "metadata": {
    "collapsed": true
   },
   "outputs": [],
   "source": [
    "mape = make_scorer(lambda y_true, y_pred: 100*np.sum(np.abs(y_true-y_pred)/y_true)/len(y_true), greater_is_better=False, needs_proba=False)\n",
    "opt = Optimiser(scoring = mape, n_folds = 3)"
   ]
  },
  {
   "cell_type": "code",
   "execution_count": 27,
   "metadata": {
    "scrolled": true
   },
   "outputs": [
    {
     "name": "stdout",
     "output_type": "stream",
     "text": [
      "No parameters set. Default configuration is tested\n",
      "\n",
      "########################################################## testing hyper-parameters... #################################################################\n",
      "\n",
      ">>> NA ENCODER :{'numerical_strategy': 'mean', 'categorical_strategy': '<NULL>'}\n",
      "\n",
      ">>> CA ENCODER :{'strategy': 'label_encoding'}\n",
      "\n",
      ">>> ESTIMATOR :{'seed': 0, 'min_child_weight': 5, 'max_drop': 50, 'min_split_gain': 0, 'boosting_type': 'gbdt', 'silent': True, 'min_child_samples': 10, 'nthread': -1, 'fair_c': 1.0, 'strategy': 'LightGBM', 'max_bin': 255, 'uniform_drop': False, 'max_depth': -1, 'skip_drop': 0.5, 'num_leaves': 31, 'reg_alpha': 0, 'subsample_for_bin': 50000, 'learning_rate': 0.05, 'gaussian_eta': 1.0, 'n_estimators': 500, 'objective': 'regression', 'huber_delta': 1.0, 'poisson_max_delta_step': 0.7, 'colsample_bytree': 0.8, 'subsample_freq': 1, 'xgboost_dart_mode': False, 'subsample': 0.9, 'reg_lambda': 0, 'drop_rate': 0.1}\n",
      "\n",
      "\n",
      "MEAN SCORE : make_scorer(<lambda>, greater_is_better=False) = -16.5281878871\n",
      "VARIANCE : 1.96972940112 (fold 1 = -19.2814394272, fold 2 = -15.5182436384, fold 3 = -14.7848805957)fold 3 = -14.7848805957)\n",
      "CPU time: 2.27448010445 seconds\n",
      "\n"
     ]
    },
    {
     "data": {
      "text/plain": [
       "-16.528187887133559"
      ]
     },
     "execution_count": 27,
     "metadata": {},
     "output_type": "execute_result"
    }
   ],
   "source": [
    "opt.evaluate(None, df)"
   ]
  },
  {
   "cell_type": "code",
   "execution_count": 29,
   "metadata": {
    "scrolled": true
   },
   "outputs": [
    {
     "name": "stdout",
     "output_type": "stream",
     "text": [
      "\n",
      "########################################################## testing hyper-parameters... #################################################################\n",
      "\n",
      ">>> NA ENCODER :{'numerical_strategy': 0, 'categorical_strategy': '<NULL>'}\n",
      "\n",
      ">>> CA ENCODER :{'strategy': 'label_encoding'}\n",
      "\n",
      ">>> FEATURE SELECTOR :{'threshold': 0.17310745571388583, 'strategy': 'l1'}\n",
      "\n",
      ">>> ESTIMATOR :{'seed': 0, 'min_child_weight': 5, 'max_drop': 50, 'min_split_gain': 0, 'boosting_type': 'gbdt', 'silent': True, 'min_child_samples': 10, 'nthread': -1, 'fair_c': 1.0, 'strategy': 'LightGBM', 'max_bin': 255, 'uniform_drop': False, 'max_depth': 6, 'skip_drop': 0.5, 'num_leaves': 31, 'reg_alpha': 0, 'subsample_for_bin': 50000, 'learning_rate': 0.05, 'gaussian_eta': 1.0, 'n_estimators': 500, 'objective': 'regression', 'huber_delta': 1.0, 'poisson_max_delta_step': 0.7, 'colsample_bytree': 0.8, 'subsample_freq': 1, 'xgboost_dart_mode': False, 'subsample': 0.9, 'reg_lambda': 0, 'drop_rate': 0.1}\n",
      "\n",
      "\n",
      "MEAN SCORE : make_scorer(<lambda>, greater_is_better=False) = -16.8737516745\n",
      "VARIANCE : 1.8730452246 (fold 1 = -19.4841998409, fold 2 = -15.9579090218, fold 3 = -15.179146161)fold 3 = -15.179146161)\n",
      "CPU time: 2.02541995049 seconds\n",
      "\n",
      "\n",
      "########################################################## testing hyper-parameters... #################################################################\n",
      "\n",
      ">>> NA ENCODER :{'numerical_strategy': 0, 'categorical_strategy': '<NULL>'}\n",
      "\n",
      ">>> CA ENCODER :{'strategy': 'label_encoding'}\n",
      "\n",
      ">>> FEATURE SELECTOR :{'threshold': 0.2612296117133183, 'strategy': 'l1'}\n",
      "\n",
      ">>> ESTIMATOR :{'seed': 0, 'min_child_weight': 5, 'max_drop': 50, 'min_split_gain': 0, 'boosting_type': 'gbdt', 'silent': True, 'min_child_samples': 10, 'nthread': -1, 'fair_c': 1.0, 'strategy': 'LightGBM', 'max_bin': 255, 'uniform_drop': False, 'max_depth': 7, 'skip_drop': 0.5, 'num_leaves': 31, 'reg_alpha': 0, 'subsample_for_bin': 50000, 'learning_rate': 0.05, 'gaussian_eta': 1.0, 'n_estimators': 500, 'objective': 'regression', 'huber_delta': 1.0, 'poisson_max_delta_step': 0.7, 'colsample_bytree': 0.8, 'subsample_freq': 1, 'xgboost_dart_mode': False, 'subsample': 0.9, 'reg_lambda': 0, 'drop_rate': 0.1}\n",
      "\n",
      "\n",
      "MEAN SCORE : make_scorer(<lambda>, greater_is_better=False) = -16.8664595721\n",
      "VARIANCE : 1.92140843103 (fold 1 = -19.5512468039, fold 2 = -15.8869070763, fold 3 = -15.1612248362)fold 3 = -15.1612248362)\n",
      "CPU time: 2.91598701477 seconds\n",
      "\n",
      "\n",
      "########################################################## testing hyper-parameters... #################################################################\n",
      "\n",
      ">>> NA ENCODER :{'numerical_strategy': 0, 'categorical_strategy': '<NULL>'}\n",
      "\n",
      ">>> CA ENCODER :{'strategy': 'random_projection'}\n",
      "\n",
      ">>> FEATURE SELECTOR :{'threshold': 0.01934389421342579, 'strategy': 'l1'}\n",
      "\n",
      ">>> ESTIMATOR :{'seed': 0, 'min_child_weight': 5, 'max_drop': 50, 'min_split_gain': 0, 'boosting_type': 'gbdt', 'silent': True, 'min_child_samples': 10, 'nthread': -1, 'fair_c': 1.0, 'strategy': 'LightGBM', 'max_bin': 255, 'uniform_drop': False, 'max_depth': 4, 'skip_drop': 0.5, 'num_leaves': 31, 'reg_alpha': 0, 'subsample_for_bin': 50000, 'learning_rate': 0.05, 'gaussian_eta': 1.0, 'n_estimators': 500, 'objective': 'regression', 'huber_delta': 1.0, 'poisson_max_delta_step': 0.7, 'colsample_bytree': 0.8, 'subsample_freq': 1, 'xgboost_dart_mode': False, 'subsample': 0.9, 'reg_lambda': 0, 'drop_rate': 0.1}\n",
      "\n",
      "\n",
      "MEAN SCORE : make_scorer(<lambda>, greater_is_better=False) = -17.5524205148\n",
      "VARIANCE : 1.91639668161 (fold 1 = -20.2418934767, fold 2 = -16.497366191, fold 3 = -15.9180018767)fold 3 = -15.9180018767)\n",
      "CPU time: 1.70019292831 seconds\n",
      "\n",
      "\n",
      "########################################################## testing hyper-parameters... #################################################################\n",
      "\n",
      ">>> NA ENCODER :{'numerical_strategy': 0, 'categorical_strategy': '<NULL>'}\n",
      "\n",
      ">>> CA ENCODER :{'strategy': 'random_projection'}\n",
      "\n",
      ">>> FEATURE SELECTOR :{'threshold': 0.23034900026685837, 'strategy': 'l1'}\n",
      "\n",
      ">>> ESTIMATOR :{'seed': 0, 'min_child_weight': 5, 'max_drop': 50, 'min_split_gain': 0, 'boosting_type': 'gbdt', 'silent': True, 'min_child_samples': 10, 'nthread': -1, 'fair_c': 1.0, 'strategy': 'LightGBM', 'max_bin': 255, 'uniform_drop': False, 'max_depth': 5, 'skip_drop': 0.5, 'num_leaves': 31, 'reg_alpha': 0, 'subsample_for_bin': 50000, 'learning_rate': 0.05, 'gaussian_eta': 1.0, 'n_estimators': 500, 'objective': 'regression', 'huber_delta': 1.0, 'poisson_max_delta_step': 0.7, 'colsample_bytree': 0.8, 'subsample_freq': 1, 'xgboost_dart_mode': False, 'subsample': 0.9, 'reg_lambda': 0, 'drop_rate': 0.1}\n",
      "\n",
      "\n",
      "MEAN SCORE : make_scorer(<lambda>, greater_is_better=False) = -17.3825358485\n",
      "VARIANCE : 1.98141840939 (fold 1 = -20.1267180823, fold 2 = -16.5014908297, fold 3 = -15.5193986336)fold 3 = -15.5193986336)\n",
      "CPU time: 2.15996789932 seconds\n",
      "\n",
      "\n",
      "########################################################## testing hyper-parameters... #################################################################\n",
      "\n",
      ">>> NA ENCODER :{'numerical_strategy': 0, 'categorical_strategy': '<NULL>'}\n",
      "\n",
      ">>> CA ENCODER :{'strategy': 'label_encoding'}\n",
      "\n",
      ">>> FEATURE SELECTOR :{'threshold': 0.23091674441985835, 'strategy': 'l1'}\n",
      "\n",
      ">>> ESTIMATOR :{'seed': 0, 'min_child_weight': 5, 'max_drop': 50, 'min_split_gain': 0, 'boosting_type': 'gbdt', 'silent': True, 'min_child_samples': 10, 'nthread': -1, 'fair_c': 1.0, 'strategy': 'LightGBM', 'max_bin': 255, 'uniform_drop': False, 'max_depth': 5, 'skip_drop': 0.5, 'num_leaves': 31, 'reg_alpha': 0, 'subsample_for_bin': 50000, 'learning_rate': 0.05, 'gaussian_eta': 1.0, 'n_estimators': 500, 'objective': 'regression', 'huber_delta': 1.0, 'poisson_max_delta_step': 0.7, 'colsample_bytree': 0.8, 'subsample_freq': 1, 'xgboost_dart_mode': False, 'subsample': 0.9, 'reg_lambda': 0, 'drop_rate': 0.1}\n",
      "\n",
      "\n",
      "MEAN SCORE : make_scorer(<lambda>, greater_is_better=False) = -17.4051478124\n",
      "VARIANCE : 1.91103352 (fold 1 = -20.0747480559, fold 2 = -16.4350387613, fold 3 = -15.7056566201)fold 3 = -15.7056566201)\n",
      "CPU time: 2.07140088081 seconds\n",
      "\n",
      "\n",
      "########################################################## testing hyper-parameters... #################################################################\n",
      "\n",
      ">>> NA ENCODER :{'numerical_strategy': 0, 'categorical_strategy': '<NULL>'}\n",
      "\n",
      ">>> CA ENCODER :{'strategy': 'label_encoding'}\n",
      "\n",
      ">>> FEATURE SELECTOR :{'threshold': 0.2137873622298786, 'strategy': 'l1'}\n",
      "\n",
      ">>> ESTIMATOR :{'seed': 0, 'min_child_weight': 5, 'max_drop': 50, 'min_split_gain': 0, 'boosting_type': 'gbdt', 'silent': True, 'min_child_samples': 10, 'nthread': -1, 'fair_c': 1.0, 'strategy': 'LightGBM', 'max_bin': 255, 'uniform_drop': False, 'max_depth': 3, 'skip_drop': 0.5, 'num_leaves': 31, 'reg_alpha': 0, 'subsample_for_bin': 50000, 'learning_rate': 0.05, 'gaussian_eta': 1.0, 'n_estimators': 500, 'objective': 'regression', 'huber_delta': 1.0, 'poisson_max_delta_step': 0.7, 'colsample_bytree': 0.8, 'subsample_freq': 1, 'xgboost_dart_mode': False, 'subsample': 0.9, 'reg_lambda': 0, 'drop_rate': 0.1}\n",
      "\n",
      "\n",
      "MEAN SCORE : make_scorer(<lambda>, greater_is_better=False) = -18.773497702\n",
      "VARIANCE : 1.86420943357 (fold 1 = -21.3688744075, fold 2 = -17.8769702094, fold 3 = -17.074648489)fold 3 = -17.074648489)\n",
      "CPU time: 1.4547560215 seconds\n",
      "\n",
      "\n",
      "########################################################## testing hyper-parameters... #################################################################\n",
      "\n",
      ">>> NA ENCODER :{'numerical_strategy': 0, 'categorical_strategy': '<NULL>'}\n",
      "\n",
      ">>> CA ENCODER :{'strategy': 'random_projection'}\n",
      "\n",
      ">>> FEATURE SELECTOR :{'threshold': 0.1929429209753758, 'strategy': 'l1'}\n",
      "\n",
      ">>> ESTIMATOR :{'seed': 0, 'min_child_weight': 5, 'max_drop': 50, 'min_split_gain': 0, 'boosting_type': 'gbdt', 'silent': True, 'min_child_samples': 10, 'nthread': -1, 'fair_c': 1.0, 'strategy': 'LightGBM', 'max_bin': 255, 'uniform_drop': False, 'max_depth': 5, 'skip_drop': 0.5, 'num_leaves': 31, 'reg_alpha': 0, 'subsample_for_bin': 50000, 'learning_rate': 0.05, 'gaussian_eta': 1.0, 'n_estimators': 500, 'objective': 'regression', 'huber_delta': 1.0, 'poisson_max_delta_step': 0.7, 'colsample_bytree': 0.8, 'subsample_freq': 1, 'xgboost_dart_mode': False, 'subsample': 0.9, 'reg_lambda': 0, 'drop_rate': 0.1}\n",
      "\n"
     ]
    },
    {
     "name": "stdout",
     "output_type": "stream",
     "text": [
      "\n",
      "MEAN SCORE : make_scorer(<lambda>, greater_is_better=False) = -17.2975569155\n",
      "VARIANCE : 2.06550076276 (fold 1 = -20.1336601, fold 2 = -16.4851695423, fold 3 = -15.2738411041)fold 3 = -15.2738411041)\n",
      "CPU time: 2.79752588272 seconds\n",
      "\n",
      "\n",
      "########################################################## testing hyper-parameters... #################################################################\n",
      "\n",
      ">>> NA ENCODER :{'numerical_strategy': 0, 'categorical_strategy': '<NULL>'}\n",
      "\n",
      ">>> CA ENCODER :{'strategy': 'random_projection'}\n",
      "\n",
      ">>> FEATURE SELECTOR :{'threshold': 0.21366855829704756, 'strategy': 'l1'}\n",
      "\n",
      ">>> ESTIMATOR :{'seed': 0, 'min_child_weight': 5, 'max_drop': 50, 'min_split_gain': 0, 'boosting_type': 'gbdt', 'silent': True, 'min_child_samples': 10, 'nthread': -1, 'fair_c': 1.0, 'strategy': 'LightGBM', 'max_bin': 255, 'uniform_drop': False, 'max_depth': 7, 'skip_drop': 0.5, 'num_leaves': 31, 'reg_alpha': 0, 'subsample_for_bin': 50000, 'learning_rate': 0.05, 'gaussian_eta': 1.0, 'n_estimators': 500, 'objective': 'regression', 'huber_delta': 1.0, 'poisson_max_delta_step': 0.7, 'colsample_bytree': 0.8, 'subsample_freq': 1, 'xgboost_dart_mode': False, 'subsample': 0.9, 'reg_lambda': 0, 'drop_rate': 0.1}\n",
      "\n",
      "\n",
      "MEAN SCORE : make_scorer(<lambda>, greater_is_better=False) = -16.8552567597\n",
      "VARIANCE : 1.9795045825 (fold 1 = -19.5995594535, fold 2 = -15.9619160554, fold 3 = -15.0042947701)fold 3 = -15.0042947701)\n",
      "CPU time: 4.1732211113 seconds\n",
      "\n",
      "\n",
      "########################################################## testing hyper-parameters... #################################################################\n",
      "\n",
      ">>> NA ENCODER :{'numerical_strategy': 0, 'categorical_strategy': '<NULL>'}\n",
      "\n",
      ">>> CA ENCODER :{'strategy': 'label_encoding'}\n",
      "\n",
      ">>> FEATURE SELECTOR :{'threshold': 0.014984182847034549, 'strategy': 'l1'}\n",
      "\n",
      ">>> ESTIMATOR :{'seed': 0, 'min_child_weight': 5, 'max_drop': 50, 'min_split_gain': 0, 'boosting_type': 'gbdt', 'silent': True, 'min_child_samples': 10, 'nthread': -1, 'fair_c': 1.0, 'strategy': 'LightGBM', 'max_bin': 255, 'uniform_drop': False, 'max_depth': 7, 'skip_drop': 0.5, 'num_leaves': 31, 'reg_alpha': 0, 'subsample_for_bin': 50000, 'learning_rate': 0.05, 'gaussian_eta': 1.0, 'n_estimators': 500, 'objective': 'regression', 'huber_delta': 1.0, 'poisson_max_delta_step': 0.7, 'colsample_bytree': 0.8, 'subsample_freq': 1, 'xgboost_dart_mode': False, 'subsample': 0.9, 'reg_lambda': 0, 'drop_rate': 0.1}\n",
      "\n",
      "\n",
      "MEAN SCORE : make_scorer(<lambda>, greater_is_better=False) = -16.6084156333\n",
      "VARIANCE : 1.96738847359 (fold 1 = -19.3554458553, fold 2 = -15.6173855918, fold 3 = -14.8524154526)fold 3 = -14.8524154526)\n",
      "CPU time: 3.85196805 seconds\n",
      "\n",
      "\n",
      "########################################################## testing hyper-parameters... #################################################################\n",
      "\n",
      ">>> NA ENCODER :{'numerical_strategy': 0, 'categorical_strategy': '<NULL>'}\n",
      "\n",
      ">>> CA ENCODER :{'strategy': 'entity_embedding'}\n",
      "\n",
      ">>> FEATURE SELECTOR :{'threshold': 0.07458608115458001, 'strategy': 'l1'}\n",
      "\n",
      ">>> ESTIMATOR :{'seed': 0, 'min_child_weight': 5, 'max_drop': 50, 'min_split_gain': 0, 'boosting_type': 'gbdt', 'silent': True, 'min_child_samples': 10, 'nthread': -1, 'fair_c': 1.0, 'strategy': 'LightGBM', 'max_bin': 255, 'uniform_drop': False, 'max_depth': 5, 'skip_drop': 0.5, 'num_leaves': 31, 'reg_alpha': 0, 'subsample_for_bin': 50000, 'learning_rate': 0.05, 'gaussian_eta': 1.0, 'n_estimators': 500, 'objective': 'regression', 'huber_delta': 1.0, 'poisson_max_delta_step': 0.7, 'colsample_bytree': 0.8, 'subsample_freq': 1, 'xgboost_dart_mode': False, 'subsample': 0.9, 'reg_lambda': 0, 'drop_rate': 0.1}\n",
      "\n",
      "\n",
      "MEAN SCORE : make_scorer(<lambda>, greater_is_better=False) = -17.0238243364\n",
      "VARIANCE : 1.97633452494 (fold 1 = -19.7760269455, fold 2 = -16.0694846125, fold 3 = -15.2259614513)fold 3 = -15.2259614513)\n",
      "CPU time: 6.70653796196 seconds\n",
      "\n",
      "\n",
      "########################################################## testing hyper-parameters... #################################################################\n",
      "\n",
      ">>> NA ENCODER :{'numerical_strategy': 0, 'categorical_strategy': '<NULL>'}\n",
      "\n",
      ">>> CA ENCODER :{'strategy': 'random_projection'}\n",
      "\n",
      ">>> FEATURE SELECTOR :{'threshold': 0.23581018900745926, 'strategy': 'l1'}\n",
      "\n",
      ">>> ESTIMATOR :{'seed': 0, 'min_child_weight': 5, 'max_drop': 50, 'min_split_gain': 0, 'boosting_type': 'gbdt', 'silent': True, 'min_child_samples': 10, 'nthread': -1, 'fair_c': 1.0, 'strategy': 'LightGBM', 'max_bin': 255, 'uniform_drop': False, 'max_depth': 4, 'skip_drop': 0.5, 'num_leaves': 31, 'reg_alpha': 0, 'subsample_for_bin': 50000, 'learning_rate': 0.05, 'gaussian_eta': 1.0, 'n_estimators': 500, 'objective': 'regression', 'huber_delta': 1.0, 'poisson_max_delta_step': 0.7, 'colsample_bytree': 0.8, 'subsample_freq': 1, 'xgboost_dart_mode': False, 'subsample': 0.9, 'reg_lambda': 0, 'drop_rate': 0.1}\n",
      "\n",
      "\n",
      "MEAN SCORE : make_scorer(<lambda>, greater_is_better=False) = -17.8836628496\n",
      "VARIANCE : 1.82805124599 (fold 1 = -20.4496519898, fold 2 = -16.8734902657, fold 3 = -16.3278462933)fold 3 = -16.3278462933)\n",
      "CPU time: 1.92959189415 seconds\n",
      "\n",
      "\n",
      "########################################################## testing hyper-parameters... #################################################################\n",
      "\n",
      ">>> NA ENCODER :{'numerical_strategy': 0, 'categorical_strategy': '<NULL>'}\n",
      "\n",
      ">>> CA ENCODER :{'strategy': 'label_encoding'}\n",
      "\n",
      ">>> FEATURE SELECTOR :{'threshold': 0.2309926693965739, 'strategy': 'l1'}\n",
      "\n",
      ">>> ESTIMATOR :{'seed': 0, 'min_child_weight': 5, 'max_drop': 50, 'min_split_gain': 0, 'boosting_type': 'gbdt', 'silent': True, 'min_child_samples': 10, 'nthread': -1, 'fair_c': 1.0, 'strategy': 'LightGBM', 'max_bin': 255, 'uniform_drop': False, 'max_depth': 4, 'skip_drop': 0.5, 'num_leaves': 31, 'reg_alpha': 0, 'subsample_for_bin': 50000, 'learning_rate': 0.05, 'gaussian_eta': 1.0, 'n_estimators': 500, 'objective': 'regression', 'huber_delta': 1.0, 'poisson_max_delta_step': 0.7, 'colsample_bytree': 0.8, 'subsample_freq': 1, 'xgboost_dart_mode': False, 'subsample': 0.9, 'reg_lambda': 0, 'drop_rate': 0.1}\n",
      "\n",
      "\n",
      "MEAN SCORE : make_scorer(<lambda>, greater_is_better=False) = -17.858888527\n",
      "VARIANCE : 1.83901854303 (fold 1 = -20.4360799853, fold 2 = -16.8728600515, fold 3 = -16.2677255443)fold 3 = -16.2677255443)\n",
      "CPU time: 1.60919809341 seconds\n",
      "\n",
      "\n",
      "########################################################## testing hyper-parameters... #################################################################\n",
      "\n",
      ">>> NA ENCODER :{'numerical_strategy': 0, 'categorical_strategy': '<NULL>'}\n",
      "\n",
      ">>> CA ENCODER :{'strategy': 'random_projection'}\n",
      "\n",
      ">>> FEATURE SELECTOR :{'threshold': 0.2882117142151902, 'strategy': 'l1'}\n",
      "\n",
      ">>> ESTIMATOR :{'seed': 0, 'min_child_weight': 5, 'max_drop': 50, 'min_split_gain': 0, 'boosting_type': 'gbdt', 'silent': True, 'min_child_samples': 10, 'nthread': -1, 'fair_c': 1.0, 'strategy': 'LightGBM', 'max_bin': 255, 'uniform_drop': False, 'max_depth': 3, 'skip_drop': 0.5, 'num_leaves': 31, 'reg_alpha': 0, 'subsample_for_bin': 50000, 'learning_rate': 0.05, 'gaussian_eta': 1.0, 'n_estimators': 500, 'objective': 'regression', 'huber_delta': 1.0, 'poisson_max_delta_step': 0.7, 'colsample_bytree': 0.8, 'subsample_freq': 1, 'xgboost_dart_mode': False, 'subsample': 0.9, 'reg_lambda': 0, 'drop_rate': 0.1}\n",
      "\n",
      "\n",
      "MEAN SCORE : make_scorer(<lambda>, greater_is_better=False) = -18.8012230781\n",
      "VARIANCE : 1.86100687119 (fold 1 = -21.3954759741, fold 2 = -17.8880351614, fold 3 = -17.120158099)fold 3 = -17.120158099)\n",
      "CPU time: 2.04237699509 seconds\n",
      "\n",
      "\n",
      "########################################################## testing hyper-parameters... #################################################################\n",
      "\n",
      ">>> NA ENCODER :{'numerical_strategy': 0, 'categorical_strategy': '<NULL>'}\n",
      "\n",
      ">>> CA ENCODER :{'strategy': 'entity_embedding'}\n",
      "\n",
      ">>> FEATURE SELECTOR :{'threshold': 0.2801853350147895, 'strategy': 'l1'}\n",
      "\n",
      ">>> ESTIMATOR :{'seed': 0, 'min_child_weight': 5, 'max_drop': 50, 'min_split_gain': 0, 'boosting_type': 'gbdt', 'silent': True, 'min_child_samples': 10, 'nthread': -1, 'fair_c': 1.0, 'strategy': 'LightGBM', 'max_bin': 255, 'uniform_drop': False, 'max_depth': 7, 'skip_drop': 0.5, 'num_leaves': 31, 'reg_alpha': 0, 'subsample_for_bin': 50000, 'learning_rate': 0.05, 'gaussian_eta': 1.0, 'n_estimators': 500, 'objective': 'regression', 'huber_delta': 1.0, 'poisson_max_delta_step': 0.7, 'colsample_bytree': 0.8, 'subsample_freq': 1, 'xgboost_dart_mode': False, 'subsample': 0.9, 'reg_lambda': 0, 'drop_rate': 0.1}\n",
      "\n"
     ]
    },
    {
     "name": "stdout",
     "output_type": "stream",
     "text": [
      "\n",
      "MEAN SCORE : make_scorer(<lambda>, greater_is_better=False) = -16.5616289975\n",
      "VARIANCE : 1.93349554079 (fold 1 = -19.2634463172, fold 2 = -15.575062056, fold 3 = -14.8463786194)fold 3 = -14.8463786194)\n",
      "CPU time: 7.67966794968 seconds\n",
      "\n",
      "\n",
      "########################################################## testing hyper-parameters... #################################################################\n",
      "\n",
      ">>> NA ENCODER :{'numerical_strategy': 0, 'categorical_strategy': '<NULL>'}\n",
      "\n",
      ">>> CA ENCODER :{'strategy': 'random_projection'}\n",
      "\n",
      ">>> FEATURE SELECTOR :{'threshold': 0.2552044856956169, 'strategy': 'l1'}\n",
      "\n",
      ">>> ESTIMATOR :{'seed': 0, 'min_child_weight': 5, 'max_drop': 50, 'min_split_gain': 0, 'boosting_type': 'gbdt', 'silent': True, 'min_child_samples': 10, 'nthread': -1, 'fair_c': 1.0, 'strategy': 'LightGBM', 'max_bin': 255, 'uniform_drop': False, 'max_depth': 5, 'skip_drop': 0.5, 'num_leaves': 31, 'reg_alpha': 0, 'subsample_for_bin': 50000, 'learning_rate': 0.05, 'gaussian_eta': 1.0, 'n_estimators': 500, 'objective': 'regression', 'huber_delta': 1.0, 'poisson_max_delta_step': 0.7, 'colsample_bytree': 0.8, 'subsample_freq': 1, 'xgboost_dart_mode': False, 'subsample': 0.9, 'reg_lambda': 0, 'drop_rate': 0.1}\n",
      "\n",
      "\n",
      "MEAN SCORE : make_scorer(<lambda>, greater_is_better=False) = -17.4731745002\n",
      "VARIANCE : 1.91565544075 (fold 1 = -20.1482448588, fold 2 = -16.5065875439, fold 3 = -15.764691098)fold 3 = -15.764691098)\n",
      "CPU time: 2.77810001373 seconds\n",
      "\n",
      "\n",
      "\n",
      "~~~~~~~~~~~~~~~~~~~~~~~~~~~~~~~~~~~~~~~~~~~~~~~~~~~~~~~~~~~~~~~~~~~~~~~~~~~~~~~~~~~~~~~~~~~~~~~~~~~~~~~~~~~~~~~~~~~~~~~~~~~~~~~~~~~~~~~~~~~~~~~~~~~\n",
      "~~~~~~~~~~~~~~~~~~~~~~~~~~~~~~~~~~~~~~~~~~~~~~~~~~~~~~~~~~~~~ BEST HYPER-PARAMETERS ~~~~~~~~~~~~~~~~~~~~~~~~~~~~~~~~~~~~~~~~~~~~~~~~~~~~~~~~~~~~~~~\n",
      "~~~~~~~~~~~~~~~~~~~~~~~~~~~~~~~~~~~~~~~~~~~~~~~~~~~~~~~~~~~~~~~~~~~~~~~~~~~~~~~~~~~~~~~~~~~~~~~~~~~~~~~~~~~~~~~~~~~~~~~~~~~~~~~~~~~~~~~~~~~~~~~~~~~\n",
      "\n",
      "{'est__max_depth': 7, 'fs__threshold': 0.2801853350147895, 'ce__strategy': 'entity_embedding', 'ne__numerical_strategy': 0}\n"
     ]
    }
   ],
   "source": [
    "space = {\n",
    "    \n",
    "        'ne__numerical_strategy':{\"search\":\"choice\",\n",
    "                                 \"space\":[0]},\n",
    "        'ce__strategy':{\"search\":\"choice\",\n",
    "                        \"space\":[\"label_encoding\",\"random_projection\", \"entity_embedding\"]}, \n",
    "        'fs__threshold':{\"search\":\"uniform\",\n",
    "                        \"space\":[0.01,0.3]},    \n",
    "        'est__max_depth':{\"search\":\"choice\",\n",
    "                                  \"space\":[3,4,5,6,7]}\n",
    "    \n",
    "        }\n",
    "\n",
    "best = opt.optimise(space, df,15)"
   ]
  },
  {
   "cell_type": "code",
   "execution_count": 30,
   "metadata": {},
   "outputs": [
    {
     "name": "stdout",
     "output_type": "stream",
     "text": [
      "\n",
      "fitting the pipeline...\n",
      "pipeline dumped into directory : save/joblib\n",
      "CPU time: 2.76346993446 seconds\n",
      "\n",
      "predicting...\n",
      "CPU time: 0.514960050583 seconds\n",
      "\n",
      "top 10 predictions :\n",
      "\n",
      "   SalePrice_predicted\n",
      "0        133596.832674\n",
      "1        143311.494308\n",
      "2        172966.573265\n",
      "3        178759.592986\n",
      "4        201374.579311\n",
      "5        177493.158927\n",
      "6        167828.486093\n",
      "7        170111.871096\n",
      "8        180243.803278\n",
      "9        132210.439378\n",
      "\n",
      "dumping predictions into directory : save\n"
     ]
    },
    {
     "data": {
      "text/plain": [
       "<mlbox.prediction.predictor.Predictor instance at 0x7f8348cddfc8>"
      ]
     },
     "execution_count": 30,
     "metadata": {},
     "output_type": "execute_result"
    }
   ],
   "source": [
    "prd = Predictor()\n",
    "prd.fit_predict(best,df)"
   ]
  },
  {
   "cell_type": "code",
   "execution_count": null,
   "metadata": {
    "collapsed": true
   },
   "outputs": [],
   "source": []
  }
 ],
 "metadata": {
  "kernelspec": {
   "display_name": "Python 2",
   "language": "python",
   "name": "python2"
  },
  "language_info": {
   "codemirror_mode": {
    "name": "ipython",
    "version": 2
   },
   "file_extension": ".py",
   "mimetype": "text/x-python",
   "name": "python",
   "nbconvert_exporter": "python",
   "pygments_lexer": "ipython2",
   "version": "2.7.12"
  }
 },
 "nbformat": 4,
 "nbformat_minor": 1
}
