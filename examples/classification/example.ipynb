{
 "cells": [
  {
   "cell_type": "markdown",
   "metadata": {},
   "source": [
    "# importing the MLBox"
   ]
  },
  {
   "cell_type": "code",
   "execution_count": 1,
   "metadata": {
    "scrolled": true
   },
   "outputs": [
    {
     "name": "stderr",
     "output_type": "stream",
     "text": [
      "/home/datageek/anaconda2/lib/python2.7/site-packages/mlbox/preprocessing/drift/__init__.py:9: UserWarning: ipCluster is starting. Please wait 30 sec and check in terminal that 'the engines appear to have started successfully'.\n",
      "  warnings.warn(\"ipCluster is starting. Please wait 30 sec and check in terminal that 'the engines appear to have started successfully'.\")\n",
      "Using Theano backend.\n",
      "/home/datageek/anaconda2/lib/python2.7/site-packages/sklearn/cross_validation.py:43: DeprecationWarning: This module was deprecated in version 0.18 in favor of the model_selection module into which all the refactored classes and functions are moved. Also note that the interface of the new CV iterators are different from that of this module. This module will be removed in 0.20.\n",
      "  \"This module will be removed in 0.20.\", DeprecationWarning)\n"
     ]
    }
   ],
   "source": [
    "from mlbox.preprocessing import *\n",
    "from mlbox.optimisation import *\n",
    "from mlbox.prediction import *"
   ]
  },
  {
   "cell_type": "code",
   "execution_count": 2,
   "metadata": {
    "collapsed": true
   },
   "outputs": [],
   "source": [
    "sep = ','\n",
    "paths = [\"train.csv\",\"test.csv\"]\n",
    "target_name=\"Survived\"\n",
    "\n",
    "scoring = 'accuracy'\n",
    "n_folds=3"
   ]
  },
  {
   "cell_type": "markdown",
   "metadata": {},
   "source": [
    "# reading and cleaning all files "
   ]
  },
  {
   "cell_type": "code",
   "execution_count": 3,
   "metadata": {
    "scrolled": true
   },
   "outputs": [
    {
     "name": "stdout",
     "output_type": "stream",
     "text": [
      "\n",
      "reading csv : train.csv ...\n",
      "cleaning data...\n",
      "CPU time: 0.077516078949 seconds\n",
      "\n",
      "reading csv : test.csv ...\n",
      "cleaning data...\n",
      "CPU time: 0.0522921085358 seconds\n",
      "\n",
      "number of common features : 11\n",
      "\n",
      "gathering and crunching for train and test datasets\n",
      "reindexing for train and test datasets\n",
      "dropping training duplicates\n",
      "dropping constant variables on training set\n",
      "\n",
      "number of categorical features : 5\n",
      "number of numerical features : 6\n",
      "number of training samples : 891\n",
      "number of test samples : 418\n",
      "\n",
      "task : classification\n",
      "0.0    549\n",
      "1.0    342\n",
      "Name: Survived, dtype: int64\n",
      "encoding target\n"
     ]
    }
   ],
   "source": [
    "rd = Reader(sep)\n",
    "df = rd.train_test_split(paths, target_name)"
   ]
  },
  {
   "cell_type": "code",
   "execution_count": 4,
   "metadata": {
    "scrolled": false
   },
   "outputs": [
    {
     "name": "stdout",
     "output_type": "stream",
     "text": [
      "\n",
      "computing drifts...\n",
      "CPU time: 0.318742990494 seconds\n",
      "\n",
      "Top 10 drifts\n",
      "\n",
      "('PassengerId', 1.0)\n",
      "('Name', 0.99704442935827498)\n",
      "('Ticket', 0.84579063327276627)\n",
      "('Cabin', 0.59550700418006364)\n",
      "('Embarked', 0.53834737054254522)\n",
      "('SibSp', 0.52134352316754273)\n",
      "('Fare', 0.51744001298932041)\n",
      "('Sex', 0.51694417436933204)\n",
      "('Pclass', 0.51382143975575834)\n",
      "('Parch', 0.50992009325888499)\n",
      "\n",
      "deleted variables : ['Name', 'PassengerId', 'Ticket']\n",
      "\n",
      "dumping drift coefficients into directory : save\n",
      "drift coefficients dumped\n"
     ]
    }
   ],
   "source": [
    "dft = Drift_thresholder()\n",
    "df = dft.fit_transform(df)"
   ]
  },
  {
   "cell_type": "markdown",
   "metadata": {},
   "source": [
    "# tuning"
   ]
  },
  {
   "cell_type": "code",
   "execution_count": 5,
   "metadata": {
    "collapsed": true
   },
   "outputs": [],
   "source": [
    "opt = Optimiser(scoring, n_folds)"
   ]
  },
  {
   "cell_type": "code",
   "execution_count": 6,
   "metadata": {
    "scrolled": true
   },
   "outputs": [
    {
     "name": "stdout",
     "output_type": "stream",
     "text": [
      "No parameters set. Default configuration is tested\n",
      "\n",
      "########################################################## testing hyper-parameters... #################################################################\n",
      "\n",
      ">>> NA ENCODER :{'numerical_strategy': 'mean', 'categorical_strategy': '<NULL>'}\n",
      "\n",
      ">>> CA ENCODER :{'strategy': 'label_encoding'}\n",
      "\n",
      ">>> ESTIMATOR :{'sigmoid': 1.0, 'seed': 0, 'max_drop': 50, 'min_split_gain': 0, 'boosting_type': 'gbdt', 'silent': True, 'min_child_samples': 10, 'nthread': -1, 'min_child_weight': 5, 'strategy': 'LightGBM', 'use_missing': True, 'uniform_drop': False, 'max_depth': -1, 'skip_drop': 0.5, 'num_leaves': 31, 'reg_alpha': 0, 'subsample_for_bin': 50000, 'scale_pos_weight': 1, 'learning_rate': 0.05, 'max_bin': 255, 'n_estimators': 500, 'objective': 'binary', 'colsample_bytree': 0.8, 'subsample_freq': 1, 'xgboost_dart_mode': False, 'subsample': 0.9, 'reg_lambda': 0, 'drop_rate': 0.1, 'is_unbalance': False}\n",
      "\n",
      "\n",
      "MEAN SCORE : accuracy = 0.806958473625\n",
      "VARIANCE : 0.0151411195996 (fold 1 = 0.79797979798, fold 2 = 0.828282828283, fold 3 = 0.794612794613)fold 3 = 0.794612794613)\n",
      "CPU time: 0.462322950363 seconds\n",
      "\n"
     ]
    },
    {
     "data": {
      "text/plain": [
       "0.80695847362514028"
      ]
     },
     "execution_count": 6,
     "metadata": {},
     "output_type": "execute_result"
    }
   ],
   "source": [
    "opt.evaluate(None, df)"
   ]
  },
  {
   "cell_type": "code",
   "execution_count": 9,
   "metadata": {
    "scrolled": true
   },
   "outputs": [
    {
     "name": "stdout",
     "output_type": "stream",
     "text": [
      "\n",
      "########################################################## testing hyper-parameters... #################################################################\n",
      "\n",
      ">>> NA ENCODER :{'numerical_strategy': 0, 'categorical_strategy': '<NULL>'}\n",
      "\n",
      ">>> CA ENCODER :{'strategy': 'random_projection'}\n",
      "\n",
      ">>> FEATURE SELECTOR :{'threshold': 0.17105993661756697, 'strategy': 'l1'}\n",
      "\n",
      ">>> ESTIMATOR :{'sigmoid': 1.0, 'seed': 0, 'max_drop': 50, 'min_split_gain': 0, 'boosting_type': 'gbdt', 'silent': True, 'min_child_samples': 10, 'nthread': -1, 'min_child_weight': 5, 'strategy': 'LightGBM', 'use_missing': True, 'uniform_drop': False, 'max_depth': 5, 'skip_drop': 0.5, 'num_leaves': 31, 'reg_alpha': 0, 'subsample_for_bin': 50000, 'scale_pos_weight': 1, 'learning_rate': 0.05, 'max_bin': 255, 'n_estimators': 500, 'objective': 'binary', 'colsample_bytree': 0.8, 'subsample_freq': 1, 'xgboost_dart_mode': False, 'subsample': 0.9, 'reg_lambda': 0, 'drop_rate': 0.1, 'is_unbalance': False}\n",
      "\n",
      "\n",
      "MEAN SCORE : accuracy = 0.793490460157\n",
      "VARIANCE : 0.0114456105805 (fold 1 = 0.777777777778, fold 2 = 0.804713804714, fold 3 = 0.79797979798)fold 3 = 0.79797979798)\n",
      "CPU time: 0.453722000122 seconds\n",
      "\n",
      "\n",
      "########################################################## testing hyper-parameters... #################################################################\n",
      "\n",
      ">>> NA ENCODER :{'numerical_strategy': 0, 'categorical_strategy': '<NULL>'}\n",
      "\n",
      ">>> CA ENCODER :{'strategy': 'random_projection'}\n",
      "\n",
      ">>> FEATURE SELECTOR :{'threshold': 0.024734599297716757, 'strategy': 'l1'}\n",
      "\n",
      ">>> ESTIMATOR :{'sigmoid': 1.0, 'seed': 0, 'max_drop': 50, 'min_split_gain': 0, 'boosting_type': 'gbdt', 'silent': True, 'min_child_samples': 10, 'nthread': -1, 'min_child_weight': 5, 'strategy': 'LightGBM', 'use_missing': True, 'uniform_drop': False, 'max_depth': 5, 'skip_drop': 0.5, 'num_leaves': 31, 'reg_alpha': 0, 'subsample_for_bin': 50000, 'scale_pos_weight': 1, 'learning_rate': 0.05, 'max_bin': 255, 'n_estimators': 500, 'objective': 'binary', 'colsample_bytree': 0.8, 'subsample_freq': 1, 'xgboost_dart_mode': False, 'subsample': 0.9, 'reg_lambda': 0, 'drop_rate': 0.1, 'is_unbalance': False}\n",
      "\n",
      "\n",
      "MEAN SCORE : accuracy = 0.793490460157\n",
      "VARIANCE : 0.0114456105805 (fold 1 = 0.777777777778, fold 2 = 0.804713804714, fold 3 = 0.79797979798)fold 3 = 0.79797979798)\n",
      "CPU time: 0.455064058304 seconds\n",
      "\n",
      "\n",
      "########################################################## testing hyper-parameters... #################################################################\n",
      "\n",
      ">>> NA ENCODER :{'numerical_strategy': 0, 'categorical_strategy': '<NULL>'}\n",
      "\n",
      ">>> CA ENCODER :{'strategy': 'label_encoding'}\n",
      "\n",
      ">>> FEATURE SELECTOR :{'threshold': 0.1613451193655284, 'strategy': 'l1'}\n",
      "\n",
      ">>> ESTIMATOR :{'sigmoid': 1.0, 'seed': 0, 'max_drop': 50, 'min_split_gain': 0, 'boosting_type': 'gbdt', 'silent': True, 'min_child_samples': 10, 'nthread': -1, 'min_child_weight': 5, 'strategy': 'LightGBM', 'use_missing': True, 'uniform_drop': False, 'max_depth': 4, 'skip_drop': 0.5, 'num_leaves': 31, 'reg_alpha': 0, 'subsample_for_bin': 50000, 'scale_pos_weight': 1, 'learning_rate': 0.05, 'max_bin': 255, 'n_estimators': 500, 'objective': 'binary', 'colsample_bytree': 0.8, 'subsample_freq': 1, 'xgboost_dart_mode': False, 'subsample': 0.9, 'reg_lambda': 0, 'drop_rate': 0.1, 'is_unbalance': False}\n",
      "\n",
      "\n",
      "MEAN SCORE : accuracy = 0.809203142536\n",
      "VARIANCE : 0.0158722060872 (fold 1 = 0.79797979798, fold 2 = 0.83164983165, fold 3 = 0.79797979798)fold 3 = 0.79797979798)\n",
      "CPU time: 0.425702810287 seconds\n",
      "\n",
      "\n",
      "########################################################## testing hyper-parameters... #################################################################\n",
      "\n",
      ">>> NA ENCODER :{'numerical_strategy': 0, 'categorical_strategy': '<NULL>'}\n",
      "\n",
      ">>> CA ENCODER :{'strategy': 'entity_embedding'}\n",
      "\n",
      ">>> FEATURE SELECTOR :{'threshold': 0.05177291057960939, 'strategy': 'l1'}\n",
      "\n",
      ">>> ESTIMATOR :{'sigmoid': 1.0, 'seed': 0, 'max_drop': 50, 'min_split_gain': 0, 'boosting_type': 'gbdt', 'silent': True, 'min_child_samples': 10, 'nthread': -1, 'min_child_weight': 5, 'strategy': 'LightGBM', 'use_missing': True, 'uniform_drop': False, 'max_depth': 6, 'skip_drop': 0.5, 'num_leaves': 31, 'reg_alpha': 0, 'subsample_for_bin': 50000, 'scale_pos_weight': 1, 'learning_rate': 0.05, 'max_bin': 255, 'n_estimators': 500, 'objective': 'binary', 'colsample_bytree': 0.8, 'subsample_freq': 1, 'xgboost_dart_mode': False, 'subsample': 0.9, 'reg_lambda': 0, 'drop_rate': 0.1, 'is_unbalance': False}\n",
      "\n",
      "\n",
      "MEAN SCORE : accuracy = 0.793490460157\n",
      "VARIANCE : 0.0158722060872 (fold 1 = 0.771043771044, fold 2 = 0.804713804714, fold 3 = 0.804713804714)fold 3 = 0.804713804714)\n",
      "CPU time: 8.79876995087 seconds\n",
      "\n",
      "\n",
      "########################################################## testing hyper-parameters... #################################################################\n",
      "\n",
      ">>> NA ENCODER :{'numerical_strategy': 0, 'categorical_strategy': '<NULL>'}\n",
      "\n",
      ">>> CA ENCODER :{'strategy': 'entity_embedding'}\n",
      "\n",
      ">>> FEATURE SELECTOR :{'threshold': 0.2402445637067502, 'strategy': 'l1'}\n",
      "\n",
      ">>> ESTIMATOR :{'sigmoid': 1.0, 'seed': 0, 'max_drop': 50, 'min_split_gain': 0, 'boosting_type': 'gbdt', 'silent': True, 'min_child_samples': 10, 'nthread': -1, 'min_child_weight': 5, 'strategy': 'LightGBM', 'use_missing': True, 'uniform_drop': False, 'max_depth': 7, 'skip_drop': 0.5, 'num_leaves': 31, 'reg_alpha': 0, 'subsample_for_bin': 50000, 'scale_pos_weight': 1, 'learning_rate': 0.05, 'max_bin': 255, 'n_estimators': 500, 'objective': 'binary', 'colsample_bytree': 0.8, 'subsample_freq': 1, 'xgboost_dart_mode': False, 'subsample': 0.9, 'reg_lambda': 0, 'drop_rate': 0.1, 'is_unbalance': False}\n",
      "\n",
      "\n",
      "MEAN SCORE : accuracy = 0.791245791246\n",
      "VARIANCE : 0.0225027358651 (fold 1 = 0.760942760943, fold 2 = 0.814814814815, fold 3 = 0.79797979798)fold 3 = 0.79797979798)\n",
      "CPU time: 0.79488992691 seconds\n",
      "\n",
      "\n",
      "########################################################## testing hyper-parameters... #################################################################\n",
      "\n",
      ">>> NA ENCODER :{'numerical_strategy': 0, 'categorical_strategy': '<NULL>'}\n",
      "\n",
      ">>> CA ENCODER :{'strategy': 'entity_embedding'}\n",
      "\n",
      ">>> FEATURE SELECTOR :{'threshold': 0.1174359457760684, 'strategy': 'l1'}\n",
      "\n",
      ">>> ESTIMATOR :{'sigmoid': 1.0, 'seed': 0, 'max_drop': 50, 'min_split_gain': 0, 'boosting_type': 'gbdt', 'silent': True, 'min_child_samples': 10, 'nthread': -1, 'min_child_weight': 5, 'strategy': 'LightGBM', 'use_missing': True, 'uniform_drop': False, 'max_depth': 7, 'skip_drop': 0.5, 'num_leaves': 31, 'reg_alpha': 0, 'subsample_for_bin': 50000, 'scale_pos_weight': 1, 'learning_rate': 0.05, 'max_bin': 255, 'n_estimators': 500, 'objective': 'binary', 'colsample_bytree': 0.8, 'subsample_freq': 1, 'xgboost_dart_mode': False, 'subsample': 0.9, 'reg_lambda': 0, 'drop_rate': 0.1, 'is_unbalance': False}\n",
      "\n",
      "\n",
      "MEAN SCORE : accuracy = 0.791245791246\n",
      "VARIANCE : 0.0225027358651 (fold 1 = 0.760942760943, fold 2 = 0.814814814815, fold 3 = 0.79797979798)fold 3 = 0.79797979798)\n",
      "CPU time: 0.639701843262 seconds\n",
      "\n",
      "\n",
      "########################################################## testing hyper-parameters... #################################################################\n",
      "\n",
      ">>> NA ENCODER :{'numerical_strategy': 0, 'categorical_strategy': '<NULL>'}\n",
      "\n",
      ">>> CA ENCODER :{'strategy': 'label_encoding'}\n",
      "\n",
      ">>> FEATURE SELECTOR :{'threshold': 0.29084906807830413, 'strategy': 'l1'}\n",
      "\n",
      ">>> ESTIMATOR :{'sigmoid': 1.0, 'seed': 0, 'max_drop': 50, 'min_split_gain': 0, 'boosting_type': 'gbdt', 'silent': True, 'min_child_samples': 10, 'nthread': -1, 'min_child_weight': 5, 'strategy': 'LightGBM', 'use_missing': True, 'uniform_drop': False, 'max_depth': 4, 'skip_drop': 0.5, 'num_leaves': 31, 'reg_alpha': 0, 'subsample_for_bin': 50000, 'scale_pos_weight': 1, 'learning_rate': 0.05, 'max_bin': 255, 'n_estimators': 500, 'objective': 'binary', 'colsample_bytree': 0.8, 'subsample_freq': 1, 'xgboost_dart_mode': False, 'subsample': 0.9, 'reg_lambda': 0, 'drop_rate': 0.1, 'is_unbalance': False}\n",
      "\n",
      "\n",
      "MEAN SCORE : accuracy = 0.809203142536\n",
      "VARIANCE : 0.0158722060872 (fold 1 = 0.79797979798, fold 2 = 0.83164983165, fold 3 = 0.79797979798)fold 3 = 0.79797979798)\n",
      "CPU time: 0.371367931366 seconds\n",
      "\n",
      "\n",
      "########################################################## testing hyper-parameters... #################################################################\n",
      "\n",
      ">>> NA ENCODER :{'numerical_strategy': 0, 'categorical_strategy': '<NULL>'}\n",
      "\n",
      ">>> CA ENCODER :{'strategy': 'entity_embedding'}\n",
      "\n",
      ">>> FEATURE SELECTOR :{'threshold': 0.09537192360407538, 'strategy': 'l1'}\n",
      "\n",
      ">>> ESTIMATOR :{'sigmoid': 1.0, 'seed': 0, 'max_drop': 50, 'min_split_gain': 0, 'boosting_type': 'gbdt', 'silent': True, 'min_child_samples': 10, 'nthread': -1, 'min_child_weight': 5, 'strategy': 'LightGBM', 'use_missing': True, 'uniform_drop': False, 'max_depth': 7, 'skip_drop': 0.5, 'num_leaves': 31, 'reg_alpha': 0, 'subsample_for_bin': 50000, 'scale_pos_weight': 1, 'learning_rate': 0.05, 'max_bin': 255, 'n_estimators': 500, 'objective': 'binary', 'colsample_bytree': 0.8, 'subsample_freq': 1, 'xgboost_dart_mode': False, 'subsample': 0.9, 'reg_lambda': 0, 'drop_rate': 0.1, 'is_unbalance': False}\n",
      "\n",
      "\n",
      "MEAN SCORE : accuracy = 0.791245791246\n",
      "VARIANCE : 0.0225027358651 (fold 1 = 0.760942760943, fold 2 = 0.814814814815, fold 3 = 0.79797979798)fold 3 = 0.79797979798)\n",
      "CPU time: 0.712773084641 seconds\n",
      "\n",
      "\n",
      "########################################################## testing hyper-parameters... #################################################################\n",
      "\n",
      ">>> NA ENCODER :{'numerical_strategy': 0, 'categorical_strategy': '<NULL>'}\n",
      "\n",
      ">>> CA ENCODER :{'strategy': 'entity_embedding'}\n",
      "\n",
      ">>> FEATURE SELECTOR :{'threshold': 0.020664153369717372, 'strategy': 'l1'}\n",
      "\n",
      ">>> ESTIMATOR :{'sigmoid': 1.0, 'seed': 0, 'max_drop': 50, 'min_split_gain': 0, 'boosting_type': 'gbdt', 'silent': True, 'min_child_samples': 10, 'nthread': -1, 'min_child_weight': 5, 'strategy': 'LightGBM', 'use_missing': True, 'uniform_drop': False, 'max_depth': 5, 'skip_drop': 0.5, 'num_leaves': 31, 'reg_alpha': 0, 'subsample_for_bin': 50000, 'scale_pos_weight': 1, 'learning_rate': 0.05, 'max_bin': 255, 'n_estimators': 500, 'objective': 'binary', 'colsample_bytree': 0.8, 'subsample_freq': 1, 'xgboost_dart_mode': False, 'subsample': 0.9, 'reg_lambda': 0, 'drop_rate': 0.1, 'is_unbalance': False}\n",
      "\n",
      "\n",
      "MEAN SCORE : accuracy = 0.793490460157\n",
      "VARIANCE : 0.0178870678457 (fold 1 = 0.771043771044, fold 2 = 0.814814814815, fold 3 = 0.794612794613)fold 3 = 0.794612794613)\n",
      "CPU time: 0.643214941025 seconds\n",
      "\n",
      "\n",
      "########################################################## testing hyper-parameters... #################################################################\n",
      "\n",
      ">>> NA ENCODER :{'numerical_strategy': 0, 'categorical_strategy': '<NULL>'}\n",
      "\n",
      ">>> CA ENCODER :{'strategy': 'random_projection'}\n",
      "\n",
      ">>> FEATURE SELECTOR :{'threshold': 0.06929099486096456, 'strategy': 'l1'}\n",
      "\n",
      ">>> ESTIMATOR :{'sigmoid': 1.0, 'seed': 0, 'max_drop': 50, 'min_split_gain': 0, 'boosting_type': 'gbdt', 'silent': True, 'min_child_samples': 10, 'nthread': -1, 'min_child_weight': 5, 'strategy': 'LightGBM', 'use_missing': True, 'uniform_drop': False, 'max_depth': 6, 'skip_drop': 0.5, 'num_leaves': 31, 'reg_alpha': 0, 'subsample_for_bin': 50000, 'scale_pos_weight': 1, 'learning_rate': 0.05, 'max_bin': 255, 'n_estimators': 500, 'objective': 'binary', 'colsample_bytree': 0.8, 'subsample_freq': 1, 'xgboost_dart_mode': False, 'subsample': 0.9, 'reg_lambda': 0, 'drop_rate': 0.1, 'is_unbalance': False}\n",
      "\n",
      "\n",
      "MEAN SCORE : accuracy = 0.794612794613\n",
      "VARIANCE : 0.0099121895245 (fold 1 = 0.781144781145, fold 2 = 0.804713804714, fold 3 = 0.79797979798)fold 3 = 0.79797979798)\n",
      "CPU time: 0.619595050812 seconds\n",
      "\n",
      "\n",
      "########################################################## testing hyper-parameters... #################################################################\n",
      "\n",
      ">>> NA ENCODER :{'numerical_strategy': 0, 'categorical_strategy': '<NULL>'}\n",
      "\n",
      ">>> CA ENCODER :{'strategy': 'entity_embedding'}\n",
      "\n",
      ">>> FEATURE SELECTOR :{'threshold': 0.09193147928947613, 'strategy': 'l1'}\n",
      "\n",
      ">>> ESTIMATOR :{'sigmoid': 1.0, 'seed': 0, 'max_drop': 50, 'min_split_gain': 0, 'boosting_type': 'gbdt', 'silent': True, 'min_child_samples': 10, 'nthread': -1, 'min_child_weight': 5, 'strategy': 'LightGBM', 'use_missing': True, 'uniform_drop': False, 'max_depth': 6, 'skip_drop': 0.5, 'num_leaves': 31, 'reg_alpha': 0, 'subsample_for_bin': 50000, 'scale_pos_weight': 1, 'learning_rate': 0.05, 'max_bin': 255, 'n_estimators': 500, 'objective': 'binary', 'colsample_bytree': 0.8, 'subsample_freq': 1, 'xgboost_dart_mode': False, 'subsample': 0.9, 'reg_lambda': 0, 'drop_rate': 0.1, 'is_unbalance': False}\n",
      "\n",
      "\n",
      "MEAN SCORE : accuracy = 0.793490460157\n",
      "VARIANCE : 0.0158722060872 (fold 1 = 0.771043771044, fold 2 = 0.804713804714, fold 3 = 0.804713804714)fold 3 = 0.804713804714)\n",
      "CPU time: 0.549631118774 seconds\n",
      "\n",
      "\n",
      "########################################################## testing hyper-parameters... #################################################################\n",
      "\n",
      ">>> NA ENCODER :{'numerical_strategy': 0, 'categorical_strategy': '<NULL>'}\n",
      "\n",
      ">>> CA ENCODER :{'strategy': 'entity_embedding'}\n",
      "\n",
      ">>> FEATURE SELECTOR :{'threshold': 0.012021465357224138, 'strategy': 'l1'}\n",
      "\n",
      ">>> ESTIMATOR :{'sigmoid': 1.0, 'seed': 0, 'max_drop': 50, 'min_split_gain': 0, 'boosting_type': 'gbdt', 'silent': True, 'min_child_samples': 10, 'nthread': -1, 'min_child_weight': 5, 'strategy': 'LightGBM', 'use_missing': True, 'uniform_drop': False, 'max_depth': 5, 'skip_drop': 0.5, 'num_leaves': 31, 'reg_alpha': 0, 'subsample_for_bin': 50000, 'scale_pos_weight': 1, 'learning_rate': 0.05, 'max_bin': 255, 'n_estimators': 500, 'objective': 'binary', 'colsample_bytree': 0.8, 'subsample_freq': 1, 'xgboost_dart_mode': False, 'subsample': 0.9, 'reg_lambda': 0, 'drop_rate': 0.1, 'is_unbalance': False}\n",
      "\n",
      "\n",
      "MEAN SCORE : accuracy = 0.793490460157\n",
      "VARIANCE : 0.0178870678457 (fold 1 = 0.771043771044, fold 2 = 0.814814814815, fold 3 = 0.794612794613)fold 3 = 0.794612794613)\n",
      "CPU time: 0.645522117615 seconds\n",
      "\n",
      "\n",
      "########################################################## testing hyper-parameters... #################################################################\n",
      "\n",
      ">>> NA ENCODER :{'numerical_strategy': 0, 'categorical_strategy': '<NULL>'}\n",
      "\n",
      ">>> CA ENCODER :{'strategy': 'random_projection'}\n",
      "\n",
      ">>> FEATURE SELECTOR :{'threshold': 0.0980236577297709, 'strategy': 'l1'}\n",
      "\n",
      ">>> ESTIMATOR :{'sigmoid': 1.0, 'seed': 0, 'max_drop': 50, 'min_split_gain': 0, 'boosting_type': 'gbdt', 'silent': True, 'min_child_samples': 10, 'nthread': -1, 'min_child_weight': 5, 'strategy': 'LightGBM', 'use_missing': True, 'uniform_drop': False, 'max_depth': 4, 'skip_drop': 0.5, 'num_leaves': 31, 'reg_alpha': 0, 'subsample_for_bin': 50000, 'scale_pos_weight': 1, 'learning_rate': 0.05, 'max_bin': 255, 'n_estimators': 500, 'objective': 'binary', 'colsample_bytree': 0.8, 'subsample_freq': 1, 'xgboost_dart_mode': False, 'subsample': 0.9, 'reg_lambda': 0, 'drop_rate': 0.1, 'is_unbalance': False}\n",
      "\n",
      "\n",
      "MEAN SCORE : accuracy = 0.800224466891\n",
      "VARIANCE : 0.0063488824349 (fold 1 = 0.791245791246, fold 2 = 0.804713804714, fold 3 = 0.804713804714)fold 3 = 0.804713804714)\n",
      "CPU time: 0.461666107178 seconds\n",
      "\n",
      "\n",
      "########################################################## testing hyper-parameters... #################################################################\n",
      "\n",
      ">>> NA ENCODER :{'numerical_strategy': 0, 'categorical_strategy': '<NULL>'}\n",
      "\n",
      ">>> CA ENCODER :{'strategy': 'random_projection'}\n",
      "\n",
      ">>> FEATURE SELECTOR :{'threshold': 0.16440660910781857, 'strategy': 'l1'}\n",
      "\n",
      ">>> ESTIMATOR :{'sigmoid': 1.0, 'seed': 0, 'max_drop': 50, 'min_split_gain': 0, 'boosting_type': 'gbdt', 'silent': True, 'min_child_samples': 10, 'nthread': -1, 'min_child_weight': 5, 'strategy': 'LightGBM', 'use_missing': True, 'uniform_drop': False, 'max_depth': 4, 'skip_drop': 0.5, 'num_leaves': 31, 'reg_alpha': 0, 'subsample_for_bin': 50000, 'scale_pos_weight': 1, 'learning_rate': 0.05, 'max_bin': 255, 'n_estimators': 500, 'objective': 'binary', 'colsample_bytree': 0.8, 'subsample_freq': 1, 'xgboost_dart_mode': False, 'subsample': 0.9, 'reg_lambda': 0, 'drop_rate': 0.1, 'is_unbalance': False}\n",
      "\n",
      "\n",
      "MEAN SCORE : accuracy = 0.800224466891\n",
      "VARIANCE : 0.0063488824349 (fold 1 = 0.791245791246, fold 2 = 0.804713804714, fold 3 = 0.804713804714)fold 3 = 0.804713804714)\n",
      "CPU time: 0.435133218765 seconds\n",
      "\n",
      "\n",
      "########################################################## testing hyper-parameters... #################################################################\n",
      "\n",
      ">>> NA ENCODER :{'numerical_strategy': 0, 'categorical_strategy': '<NULL>'}\n",
      "\n",
      ">>> CA ENCODER :{'strategy': 'label_encoding'}\n",
      "\n",
      ">>> FEATURE SELECTOR :{'threshold': 0.16819093899342433, 'strategy': 'l1'}\n",
      "\n",
      ">>> ESTIMATOR :{'sigmoid': 1.0, 'seed': 0, 'max_drop': 50, 'min_split_gain': 0, 'boosting_type': 'gbdt', 'silent': True, 'min_child_samples': 10, 'nthread': -1, 'min_child_weight': 5, 'strategy': 'LightGBM', 'use_missing': True, 'uniform_drop': False, 'max_depth': 4, 'skip_drop': 0.5, 'num_leaves': 31, 'reg_alpha': 0, 'subsample_for_bin': 50000, 'scale_pos_weight': 1, 'learning_rate': 0.05, 'max_bin': 255, 'n_estimators': 500, 'objective': 'binary', 'colsample_bytree': 0.8, 'subsample_freq': 1, 'xgboost_dart_mode': False, 'subsample': 0.9, 'reg_lambda': 0, 'drop_rate': 0.1, 'is_unbalance': False}\n",
      "\n",
      "\n",
      "MEAN SCORE : accuracy = 0.809203142536\n",
      "VARIANCE : 0.0158722060872 (fold 1 = 0.79797979798, fold 2 = 0.83164983165, fold 3 = 0.79797979798)fold 3 = 0.79797979798)\n",
      "CPU time: 0.508388996124 seconds\n",
      "\n",
      "\n",
      "\n",
      "~~~~~~~~~~~~~~~~~~~~~~~~~~~~~~~~~~~~~~~~~~~~~~~~~~~~~~~~~~~~~~~~~~~~~~~~~~~~~~~~~~~~~~~~~~~~~~~~~~~~~~~~~~~~~~~~~~~~~~~~~~~~~~~~~~~~~~~~~~~~~~~~~~~\n",
      "~~~~~~~~~~~~~~~~~~~~~~~~~~~~~~~~~~~~~~~~~~~~~~~~~~~~~~~~~~~~~ BEST HYPER-PARAMETERS ~~~~~~~~~~~~~~~~~~~~~~~~~~~~~~~~~~~~~~~~~~~~~~~~~~~~~~~~~~~~~~~\n",
      "~~~~~~~~~~~~~~~~~~~~~~~~~~~~~~~~~~~~~~~~~~~~~~~~~~~~~~~~~~~~~~~~~~~~~~~~~~~~~~~~~~~~~~~~~~~~~~~~~~~~~~~~~~~~~~~~~~~~~~~~~~~~~~~~~~~~~~~~~~~~~~~~~~~\n",
      "\n",
      "{'est__max_depth': 4, 'fs__threshold': 0.1613451193655284, 'ce__strategy': 'label_encoding', 'ne__numerical_strategy': 0}\n"
     ]
    }
   ],
   "source": [
    "space = {\n",
    "    \n",
    "        'ne__numerical_strategy':{\"search\":\"choice\",\n",
    "                                 \"space\":[0]},\n",
    "        'ce__strategy':{\"search\":\"choice\",\n",
    "                        \"space\":[\"label_encoding\",\"random_projection\", \"entity_embedding\"]}, \n",
    "        'fs__threshold':{\"search\":\"uniform\",\n",
    "                        \"space\":[0.01,0.3]},    \n",
    "        'est__max_depth':{\"search\":\"choice\",\n",
    "                                  \"space\":[3,4,5,6,7]}\n",
    "    \n",
    "        }\n",
    "\n",
    "best = opt.optimise(space, df,15)"
   ]
  },
  {
   "cell_type": "code",
   "execution_count": 10,
   "metadata": {},
   "outputs": [
    {
     "name": "stdout",
     "output_type": "stream",
     "text": [
      "\n",
      "fitting the pipeline...\n",
      "CPU time: 0.176958799362 seconds\n",
      "\n",
      "predicting...\n",
      "CPU time: 0.0571658611298 seconds\n",
      "\n",
      "top 10 predictions :\n",
      "\n",
      "        0.0       1.0  Survived_predicted\n",
      "0  0.951520  0.048480                   0\n",
      "1  0.915900  0.084100                   0\n",
      "2  0.929849  0.070151                   0\n",
      "3  0.744718  0.255282                   0\n",
      "4  0.736510  0.263490                   0\n",
      "5  0.680616  0.319384                   0\n",
      "6  0.636542  0.363458                   0\n",
      "7  0.953092  0.046908                   0\n",
      "8  0.168989  0.831011                   1\n",
      "9  0.981171  0.018829                   0\n",
      "\n",
      "dumping predictions into directory : save\n"
     ]
    },
    {
     "data": {
      "text/plain": [
       "<mlbox.prediction.predictor.Predictor instance at 0x7fb4546365a8>"
      ]
     },
     "execution_count": 10,
     "metadata": {},
     "output_type": "execute_result"
    }
   ],
   "source": [
    "prd = Predictor()\n",
    "prd.fit_predict(best,df)"
   ]
  },
  {
   "cell_type": "code",
   "execution_count": null,
   "metadata": {
    "collapsed": true
   },
   "outputs": [],
   "source": []
  }
 ],
 "metadata": {
  "kernelspec": {
   "display_name": "Python 2",
   "language": "python",
   "name": "python2"
  },
  "language_info": {
   "codemirror_mode": {
    "name": "ipython",
    "version": 2
   },
   "file_extension": ".py",
   "mimetype": "text/x-python",
   "name": "python",
   "nbconvert_exporter": "python",
   "pygments_lexer": "ipython2",
   "version": "2.7.11"
  }
 },
 "nbformat": 4,
 "nbformat_minor": 1
}
